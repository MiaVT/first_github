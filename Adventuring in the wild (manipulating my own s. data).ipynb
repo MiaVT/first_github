{
  "nbformat": 4,
  "nbformat_minor": 0,
  "metadata": {
    "colab": {
      "name": "Untitled1.ipynb",
      "provenance": [],
      "include_colab_link": true
    },
    "kernelspec": {
      "name": "python3",
      "display_name": "Python 3"
    }
  },
  "cells": [
    {
      "cell_type": "markdown",
      "metadata": {
        "id": "view-in-github",
        "colab_type": "text"
      },
      "source": [
        "<a href=\"https://colab.research.google.com/github/MiaVT/first_github/blob/master/Adventuring%20in%20the%20wild%20(manipulating%20my%20own%20s.%20data).ipynb\" target=\"_parent\"><img src=\"https://colab.research.google.com/assets/colab-badge.svg\" alt=\"Open In Colab\"/></a>"
      ]
    },
    {
      "cell_type": "code",
      "metadata": {
        "id": "chk8exa58bXp",
        "colab_type": "code",
        "colab": {}
      },
      "source": [
        "import pandas as pd"
      ],
      "execution_count": 0,
      "outputs": []
    },
    {
      "cell_type": "code",
      "metadata": {
        "id": "HfVugXzF-Vgv",
        "colab_type": "code",
        "colab": {
          "base_uri": "https://localhost:8080/",
          "height": 204
        },
        "outputId": "dc755d27-4951-42a6-e79d-9aa889bb2e38"
      },
      "source": [
        "argyll_broch = pd.read_csv(\"https://raw.githubusercontent.com/MiaVT/first_github/master/Canmore-download-Mon%2C%2004%20Nov%202019%2010_12_23%20%2B0000.csv_.csv\")\n",
        "argyll_broch.head()"
      ],
      "execution_count": 10,
      "outputs": [
        {
          "output_type": "execute_result",
          "data": {
            "text/html": [
              "<div>\n",
              "<style scoped>\n",
              "    .dataframe tbody tr th:only-of-type {\n",
              "        vertical-align: middle;\n",
              "    }\n",
              "\n",
              "    .dataframe tbody tr th {\n",
              "        vertical-align: top;\n",
              "    }\n",
              "\n",
              "    .dataframe thead th {\n",
              "        text-align: right;\n",
              "    }\n",
              "</style>\n",
              "<table border=\"1\" class=\"dataframe\">\n",
              "  <thead>\n",
              "    <tr style=\"text-align: right;\">\n",
              "      <th></th>\n",
              "      <th>CANMORE ID</th>\n",
              "      <th>SITE NUMBER</th>\n",
              "      <th>SITE NAME</th>\n",
              "      <th>SITE TYPE</th>\n",
              "      <th>SITE EASTING</th>\n",
              "      <th>SITE NORTHING</th>\n",
              "      <th>COUNCIL</th>\n",
              "      <th>COUNTY</th>\n",
              "      <th>PARISH</th>\n",
              "      <th>NGR</th>\n",
              "      <th>URL</th>\n",
              "    </tr>\n",
              "  </thead>\n",
              "  <tbody>\n",
              "    <tr>\n",
              "      <th>21524</th>\n",
              "      <td>NM04NW 3</td>\n",
              "      <td>Tiree, Dun Mor, Vaul</td>\n",
              "      <td>Broch (Iron Age), Inorganic Material (Glass)(R...</td>\n",
              "      <td>104230</td>\n",
              "      <td>749270</td>\n",
              "      <td>ARGYLL AND BUTE</td>\n",
              "      <td>ARGYLL</td>\n",
              "      <td>TIREE</td>\n",
              "      <td>NM 0423 4927</td>\n",
              "      <td>http://canmore.org.uk/site/21524</td>\n",
              "      <td>NaN</td>\n",
              "    </tr>\n",
              "    <tr>\n",
              "      <th>23082</th>\n",
              "      <td>NM84SE 1</td>\n",
              "      <td>Lismore, Tirefour Castle</td>\n",
              "      <td>Broch (Iron Age)</td>\n",
              "      <td>186755</td>\n",
              "      <td>742912</td>\n",
              "      <td>ARGYLL AND BUTE</td>\n",
              "      <td>ARGYLL</td>\n",
              "      <td>LISMORE AND APPIN (ARGYLL AND BUTE)</td>\n",
              "      <td>NM 86755 42912</td>\n",
              "      <td>http://canmore.org.uk/site/23082</td>\n",
              "      <td>NaN</td>\n",
              "    </tr>\n",
              "    <tr>\n",
              "      <th>39140</th>\n",
              "      <td>NR79NE 2</td>\n",
              "      <td>Ardifuir</td>\n",
              "      <td>Galleried Dun (Iron Age)</td>\n",
              "      <td>178936</td>\n",
              "      <td>696919</td>\n",
              "      <td>ARGYLL AND BUTE</td>\n",
              "      <td>ARGYLL</td>\n",
              "      <td>KILMARTIN</td>\n",
              "      <td>NR 78936 96919</td>\n",
              "      <td>http://canmore.org.uk/site/39140</td>\n",
              "      <td>NaN</td>\n",
              "    </tr>\n",
              "    <tr>\n",
              "      <th>21408</th>\n",
              "      <td>NL93NE 1</td>\n",
              "      <td>Tiree, Dun Hiader</td>\n",
              "      <td>Broch (Iron Age)(Possible), Dun (Period Unassi...</td>\n",
              "      <td>96420</td>\n",
              "      <td>738870</td>\n",
              "      <td>ARGYLL AND BUTE</td>\n",
              "      <td>ARGYLL</td>\n",
              "      <td>TIREE</td>\n",
              "      <td>NL 9642 3887</td>\n",
              "      <td>http://canmore.org.uk/site/21408</td>\n",
              "      <td>NaN</td>\n",
              "    </tr>\n",
              "    <tr>\n",
              "      <th>21485</th>\n",
              "      <td>NM04NE 1</td>\n",
              "      <td>Tiree, Dun Mor A' Chaolais</td>\n",
              "      <td>Broch (Iron Age)</td>\n",
              "      <td>108320</td>\n",
              "      <td>747670</td>\n",
              "      <td>ARGYLL AND BUTE</td>\n",
              "      <td>ARGYLL</td>\n",
              "      <td>TIREE</td>\n",
              "      <td>NM 0832 4767</td>\n",
              "      <td>http://canmore.org.uk/site/21485</td>\n",
              "      <td>NaN</td>\n",
              "    </tr>\n",
              "  </tbody>\n",
              "</table>\n",
              "</div>"
            ],
            "text/plain": [
              "      CANMORE ID  ... URL\n",
              "21524   NM04NW 3  ... NaN\n",
              "23082   NM84SE 1  ... NaN\n",
              "39140   NR79NE 2  ... NaN\n",
              "21408   NL93NE 1  ... NaN\n",
              "21485   NM04NE 1  ... NaN\n",
              "\n",
              "[5 rows x 11 columns]"
            ]
          },
          "metadata": {
            "tags": []
          },
          "execution_count": 10
        }
      ]
    },
    {
      "cell_type": "code",
      "metadata": {
        "id": "Fzp63L34Co3q",
        "colab_type": "code",
        "colab": {
          "base_uri": "https://localhost:8080/",
          "height": 51
        },
        "outputId": "a24c7ab0-b8dc-4b84-c20a-600f1a1cfe02"
      },
      "source": [
        "import folium\n",
        "import branca\n",
        "print(folium.__file__)\n",
        "print(folium.__version__)"
      ],
      "execution_count": 12,
      "outputs": [
        {
          "output_type": "stream",
          "text": [
            "/usr/local/lib/python3.6/dist-packages/folium/__init__.py\n",
            "0.8.3\n"
          ],
          "name": "stdout"
        }
      ]
    },
    {
      "cell_type": "code",
      "metadata": {
        "id": "oy7f2LBCDA8i",
        "colab_type": "code",
        "colab": {
          "base_uri": "https://localhost:8080/",
          "height": 204
        },
        "outputId": "2560619b-dd55-4cc9-f57e-c7fdf757bc8d"
      },
      "source": [
        "argyll_broch_iron_age = argyll_broch[(argyll_broch ['SITE NAME']==\"Broch (Iron Age)\") ]\n",
        "\n",
        "argyll_broch_iron_age.head()"
      ],
      "execution_count": 19,
      "outputs": [
        {
          "output_type": "execute_result",
          "data": {
            "text/html": [
              "<div>\n",
              "<style scoped>\n",
              "    .dataframe tbody tr th:only-of-type {\n",
              "        vertical-align: middle;\n",
              "    }\n",
              "\n",
              "    .dataframe tbody tr th {\n",
              "        vertical-align: top;\n",
              "    }\n",
              "\n",
              "    .dataframe thead th {\n",
              "        text-align: right;\n",
              "    }\n",
              "</style>\n",
              "<table border=\"1\" class=\"dataframe\">\n",
              "  <thead>\n",
              "    <tr style=\"text-align: right;\">\n",
              "      <th></th>\n",
              "      <th>CANMORE ID</th>\n",
              "      <th>SITE NUMBER</th>\n",
              "      <th>SITE NAME</th>\n",
              "      <th>SITE TYPE</th>\n",
              "      <th>SITE EASTING</th>\n",
              "      <th>SITE NORTHING</th>\n",
              "      <th>COUNCIL</th>\n",
              "      <th>COUNTY</th>\n",
              "      <th>PARISH</th>\n",
              "      <th>NGR</th>\n",
              "      <th>URL</th>\n",
              "    </tr>\n",
              "  </thead>\n",
              "  <tbody>\n",
              "    <tr>\n",
              "      <th>23082</th>\n",
              "      <td>NM84SE 1</td>\n",
              "      <td>Lismore, Tirefour Castle</td>\n",
              "      <td>Broch (Iron Age)</td>\n",
              "      <td>186755</td>\n",
              "      <td>742912</td>\n",
              "      <td>ARGYLL AND BUTE</td>\n",
              "      <td>ARGYLL</td>\n",
              "      <td>LISMORE AND APPIN (ARGYLL AND BUTE)</td>\n",
              "      <td>NM 86755 42912</td>\n",
              "      <td>http://canmore.org.uk/site/23082</td>\n",
              "      <td>NaN</td>\n",
              "    </tr>\n",
              "    <tr>\n",
              "      <th>21485</th>\n",
              "      <td>NM04NE 1</td>\n",
              "      <td>Tiree, Dun Mor A' Chaolais</td>\n",
              "      <td>Broch (Iron Age)</td>\n",
              "      <td>108320</td>\n",
              "      <td>747670</td>\n",
              "      <td>ARGYLL AND BUTE</td>\n",
              "      <td>ARGYLL</td>\n",
              "      <td>TIREE</td>\n",
              "      <td>NM 0832 4767</td>\n",
              "      <td>http://canmore.org.uk/site/21485</td>\n",
              "      <td>NaN</td>\n",
              "    </tr>\n",
              "    <tr>\n",
              "      <th>22058</th>\n",
              "      <td>NM44SW 2</td>\n",
              "      <td>Dun Nan Gall, Mull</td>\n",
              "      <td>Broch (Iron Age)</td>\n",
              "      <td>143310</td>\n",
              "      <td>743130</td>\n",
              "      <td>ARGYLL AND BUTE</td>\n",
              "      <td>ARGYLL</td>\n",
              "      <td>KILNINIAN AND KILMORE</td>\n",
              "      <td>NM 4331 4313</td>\n",
              "      <td>http://canmore.org.uk/site/22058</td>\n",
              "      <td>NaN</td>\n",
              "    </tr>\n",
              "    <tr>\n",
              "      <th>22259</th>\n",
              "      <td>NM54NE 4</td>\n",
              "      <td>An Sean Chaisteal, Ardnacross, Mull</td>\n",
              "      <td>Broch (Iron Age)</td>\n",
              "      <td>155100</td>\n",
              "      <td>749880</td>\n",
              "      <td>ARGYLL AND BUTE</td>\n",
              "      <td>ARGYLL</td>\n",
              "      <td>KILNINIAN AND KILMORE</td>\n",
              "      <td>NM 5510 4988</td>\n",
              "      <td>http://canmore.org.uk/site/22259</td>\n",
              "      <td>NaN</td>\n",
              "    </tr>\n",
              "    <tr>\n",
              "      <th>38103</th>\n",
              "      <td>NR46NW 10</td>\n",
              "      <td>Islay, Dun Bhoraraig</td>\n",
              "      <td>Broch (Iron Age)</td>\n",
              "      <td>141640</td>\n",
              "      <td>665780</td>\n",
              "      <td>ARGYLL AND BUTE</td>\n",
              "      <td>ARGYLL</td>\n",
              "      <td>KILLAROW AND KILMENY</td>\n",
              "      <td>NR 4164 6578</td>\n",
              "      <td>http://canmore.org.uk/site/38103</td>\n",
              "      <td>NaN</td>\n",
              "    </tr>\n",
              "  </tbody>\n",
              "</table>\n",
              "</div>"
            ],
            "text/plain": [
              "      CANMORE ID  ... URL\n",
              "23082   NM84SE 1  ... NaN\n",
              "21485   NM04NE 1  ... NaN\n",
              "22058   NM44SW 2  ... NaN\n",
              "22259   NM54NE 4  ... NaN\n",
              "38103  NR46NW 10  ... NaN\n",
              "\n",
              "[5 rows x 11 columns]"
            ]
          },
          "metadata": {
            "tags": []
          },
          "execution_count": 19
        }
      ]
    },
    {
      "cell_type": "code",
      "metadata": {
        "id": "2GhIiHjoEjlD",
        "colab_type": "code",
        "colab": {}
      },
      "source": [
        "location = argyll_broch_iron_age['Latitude'].mean(), palmisano_tuscany_sites_iron_age['Longitude'].mean()"
      ],
      "execution_count": 0,
      "outputs": []
    }
  ]
}